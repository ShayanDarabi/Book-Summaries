{
 "cells": [
  {
   "cell_type": "markdown",
   "metadata": {},
   "source": [
    "# Computer Vision 🤗"
   ]
  },
  {
   "cell_type": "markdown",
   "metadata": {},
   "source": [
    "In the final part of the project, which involves converting the book summary into an image, I found a text-to-image model on Hugging Face 🤗 called [`stable-diffusion`](https://huggingface.co/stabilityai/stable-diffusion-xl-base-1.0?text=The+book+follows+the+journey+of+an+Anabaptist+radical+across+Europe+in+the+first+half+of+the+16th+century+as+he+joins+in+various+movements+and+uprisings+that+come+as+a+result+of+the+Protestant+reformation.+The+book+spans+30+years+as+he+is+pursued+by+%5C%27Q%5C%27+%28short+for+%22Qo%C3%A8let%22%29%2C+a+spy+for+the+Roman+Catholic+Church+cardinal+Giovanni+Pietro+Carafa.+The+main+character%2C+who+changes+his+name+many+times+during+the+story%2C+first+fights+in+the+German+Peasants%5C%27+War+beside+Thomas+M%C3%BCntzer%2C+then+is+in+M%C3%BCnster%5C%27s+siege%2C+during+the+M%C3%BCnster+Rebellion%2C+and+some+years+later%2C+in+Venice.).Stable Diffusion is a deep learning, text-to-image model released from [`Stability AI`](https://stability.ai/) in 2022 based on diffusion techniques. It is considered to be a part of the ongoing artifical intelligence boom. However, due to lack of memory, I was compelled to use the [`Clipdrop`](https://clipdrop.co/apis/docs/text-to-image) website's API, which allowed me to make 100 requests for free. Using together.ai and the Llama language model, I compressed the book summary and then passed the compressed summary through Clipdrop to stable-diffusion to generate an image of the book summary. You are welcome to see the first generated image :)\n",
    "The book was 'The New Prophecy Warriors: Sunset'."
   ]
  },
  {
   "cell_type": "markdown",
   "metadata": {},
   "source": [
    "<center><img src=\"firstGeneratedImage.png\" alt=\"Image Description\" style=\"width:50%;\"/></center>"
   ]
  },
  {
   "cell_type": "code",
   "execution_count": 2,
   "metadata": {},
   "outputs": [],
   "source": [
    "import pandas as pd\n",
    "import requests\n",
    "from together import Together\n",
    "import os\n",
    "import cv2\n",
    "import numpy as np\n",
    "from dotenv import load_dotenv\n",
    "from diffusers import DiffusionPipeline\n",
    "import torch"
   ]
  },
  {
   "cell_type": "code",
   "execution_count": 3,
   "metadata": {},
   "outputs": [],
   "source": [
    "df = pd.read_excel('bookInfo.xlsx')"
   ]
  },
  {
   "cell_type": "markdown",
   "metadata": {},
   "source": [
    "### Stable Diffusion"
   ]
  },
  {
   "cell_type": "markdown",
   "metadata": {},
   "source": [
    "I directly downloaded stable diffusion from Hugging Face, and it was about 7 gigabytes. However, due to memory constraints, I couldn't use the model locally."
   ]
  },
  {
   "cell_type": "code",
   "execution_count": null,
   "metadata": {},
   "outputs": [],
   "source": [
    "# load both base & refiner\n",
    "base = DiffusionPipeline.from_pretrained(\n",
    "    \"stabilityai/stable-diffusion-xl-base-1.0\", torch_dtype=torch.float16, variant=\"fp16\", use_safetensors=True\n",
    ")\n",
    "# base.to(\"cuda\")\n",
    "refiner = DiffusionPipeline.from_pretrained(\n",
    "    \"stabilityai/stable-diffusion-xl-refiner-1.0\",\n",
    "    text_encoder_2=base.text_encoder_2,\n",
    "    vae=base.vae,\n",
    "    torch_dtype=torch.float16,\n",
    "    use_safetensors=True,\n",
    "    variant=\"fp16\",\n",
    ")\n",
    "# refiner.to(\"cuda\")"
   ]
  },
  {
   "cell_type": "code",
   "execution_count": null,
   "metadata": {},
   "outputs": [],
   "source": [
    "# Define how many steps and what % of steps to be run on each experts (80/20) here\n",
    "n_steps = 40\n",
    "high_noise_frac = 0.8\n",
    "\n",
    "prompt = f\"Depict a picture based on the summary of a book which will come in the following: {df[0]}\"\n",
    "\n",
    "run both experts\n",
    "image = base(\n",
    "    prompt=prompt,\n",
    "    num_inference_steps=n_steps,\n",
    "    denoising_end=high_noise_frac,\n",
    "    output_type=\"latent\",\n",
    ").images\n",
    "image = refiner(\n",
    "    prompt=prompt,\n",
    "    num_inference_steps=n_steps,\n",
    "    denoising_start=high_noise_frac,\n",
    "    image=image,\n",
    ").images[0]\n"
   ]
  },
  {
   "cell_type": "markdown",
   "metadata": {},
   "source": [
    "### Stable Diffusion via Clipdrop"
   ]
  },
  {
   "cell_type": "code",
   "execution_count": 41,
   "metadata": {},
   "outputs": [],
   "source": [
    "random_book = df.sample()"
   ]
  },
  {
   "cell_type": "code",
   "execution_count": 42,
   "metadata": {},
   "outputs": [
    {
     "data": {
      "text/html": [
       "<div>\n",
       "<style scoped>\n",
       "    .dataframe tbody tr th:only-of-type {\n",
       "        vertical-align: middle;\n",
       "    }\n",
       "\n",
       "    .dataframe tbody tr th {\n",
       "        vertical-align: top;\n",
       "    }\n",
       "\n",
       "    .dataframe thead th {\n",
       "        text-align: right;\n",
       "    }\n",
       "</style>\n",
       "<table border=\"1\" class=\"dataframe\">\n",
       "  <thead>\n",
       "    <tr style=\"text-align: right;\">\n",
       "      <th></th>\n",
       "      <th>bookName</th>\n",
       "      <th>author</th>\n",
       "      <th>publishDate</th>\n",
       "      <th>genres</th>\n",
       "      <th>summary</th>\n",
       "    </tr>\n",
       "  </thead>\n",
       "  <tbody>\n",
       "    <tr>\n",
       "      <th>930</th>\n",
       "      <td>The First Circle</td>\n",
       "      <td>Aleksandr Solzhenitsyn</td>\n",
       "      <td>1968</td>\n",
       "      <td>['Fiction', 'Novel']</td>\n",
       "      <td>Innokentii Volodin, a diplomat, makes a telep...</td>\n",
       "    </tr>\n",
       "  </tbody>\n",
       "</table>\n",
       "</div>"
      ],
      "text/plain": [
       "             bookName                  author publishDate  \\\n",
       "930  The First Circle  Aleksandr Solzhenitsyn        1968   \n",
       "\n",
       "                   genres                                            summary  \n",
       "930  ['Fiction', 'Novel']   Innokentii Volodin, a diplomat, makes a telep...  "
      ]
     },
     "execution_count": 42,
     "metadata": {},
     "output_type": "execute_result"
    }
   ],
   "source": [
    "random_book"
   ]
  },
  {
   "cell_type": "code",
   "execution_count": 43,
   "metadata": {},
   "outputs": [],
   "source": [
    "random_summary =  random_book['summary']"
   ]
  },
  {
   "cell_type": "code",
   "execution_count": 44,
   "metadata": {},
   "outputs": [],
   "source": [
    "# Load environment variables from .env file\n",
    "load_dotenv()\n",
    "\n",
    "# Create client\n",
    "client = Together(api_key=os.environ.get(\"TOGETHER_API_KEY\"))\n",
    "\n",
    "\n",
    "response = client.chat.completions.create(\n",
    "    model=\"meta-llama/Llama-3-8b-chat-hf\",\n",
    "    messages=[{\"role\": \"user\", \"content\": f\"Condense the provided book summary into a concise 900-word limit without adding any extra information like 'Here is the condensed summary within the 900-word limit'.: {random_summary}\"}]\n",
    ")\n",
    "condensed_summary  = response.choices[0].message.content\n",
    "\n"
   ]
  },
  {
   "cell_type": "code",
   "execution_count": 45,
   "metadata": {},
   "outputs": [
    {
     "data": {
      "text/plain": [
       "\"Innokentii Volodin, a diplomat, makes a telepathic connection with a mysterious woman named Katya, who is hiding a dark secret. As their connection deepens, Volodin becomes entangled in a web of intrigue and deception, threatening to destroy his career and personal life.\\n\\nVolodin's life is turned upside down when he meets Katya, a woman with a troubled past and a mysterious connection to the Russian government. Despite the danger, Volodin finds himself drawn to Katya, and their telepathic bond grows stronger with each passing day.\\n\\nAs Volodin delves deeper into Katya's past, he uncovers a complex web of lies and deceit that threatens to destroy his reputation and his career. He must navigate the treacherous world of international diplomacy, where allegiances are tested and loyalties are questioned.\\n\\nMeanwhile, Katya's past begins to unravel, revealing a dark history of espionage and betrayal. Volodin is torn between his love for Katya and his duty to uncover the truth, even as he becomes increasingly entangled in her web of secrets.\\n\\nAs the stakes grow higher, Volodin finds himself in a desperate race against time to uncover the truth before it's too late. With his career and personal life hanging in the balance, he must make a choice between his loyalty to his country and his love for Katya.\\n\\nThe novel is a gripping tale of espionage, deception, and betrayal, set against the backdrop of international politics. With its complex characters, intricate plot, and pulse-pounding action, it's a thrilling ride that will keep readers on the edge of their seats until the very end.\""
      ]
     },
     "execution_count": 45,
     "metadata": {},
     "output_type": "execute_result"
    }
   ],
   "source": [
    "condensed_summary"
   ]
  },
  {
   "cell_type": "code",
   "execution_count": 46,
   "metadata": {},
   "outputs": [],
   "source": [
    "# Depict a picture based on following summary : {condense_summary}\n",
    "r = requests.post('https://clipdrop-api.co/text-to-image/v1',\n",
    "  files = {\n",
    "      'prompt': (None, f'Depict a picture based on the following summary : {condensed_summary}', 'text/plain')\n",
    "  },\n",
    "  headers = { 'x-api-key': os.environ.get(\"CLIPDROP_API_KEY\")}\n",
    ")"
   ]
  },
  {
   "cell_type": "code",
   "execution_count": 47,
   "metadata": {},
   "outputs": [],
   "source": [
    "byte_array = np.frombuffer(r.content, dtype=np.uint8)"
   ]
  },
  {
   "cell_type": "code",
   "execution_count": 48,
   "metadata": {},
   "outputs": [],
   "source": [
    "image = cv2.imdecode(byte_array, cv2.IMREAD_COLOR)"
   ]
  },
  {
   "cell_type": "code",
   "execution_count": 50,
   "metadata": {},
   "outputs": [],
   "source": [
    "cv2.imshow('Image', image)\n",
    "while True:\n",
    "    if cv2.waitKey(1) & 0xFF == ord('q'):  # Wait for 'q' key to be pressed\n",
    "        break\n",
    "cv2.destroyAllWindows()"
   ]
  }
 ],
 "metadata": {
  "kernelspec": {
   "display_name": "DataCoLab",
   "language": "python",
   "name": "python3"
  },
  "language_info": {
   "codemirror_mode": {
    "name": "ipython",
    "version": 3
   },
   "file_extension": ".py",
   "mimetype": "text/x-python",
   "name": "python",
   "nbconvert_exporter": "python",
   "pygments_lexer": "ipython3",
   "version": "3.8.0"
  }
 },
 "nbformat": 4,
 "nbformat_minor": 2
}
